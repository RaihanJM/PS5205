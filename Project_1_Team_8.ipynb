{
  "cells": [
    {
      "cell_type": "markdown",
      "metadata": {
        "id": "view-in-github",
        "colab_type": "text"
      },
      "source": [
        "<a href=\"https://colab.research.google.com/github/RaihanJM/PS5205/blob/main/Project_1_Team_8.ipynb\" target=\"_parent\"><img src=\"https://colab.research.google.com/assets/colab-badge.svg\" alt=\"Open In Colab\"/></a>"
      ]
    },
    {
      "cell_type": "markdown",
      "metadata": {
        "id": "8-gM9hD9mEDg"
      },
      "source": [
        "# Project 1 - Exoplanet Detection Methods"
      ]
    },
    {
      "cell_type": "code",
      "execution_count": null,
      "metadata": {
        "id": "aUytRv3ePdjF"
      },
      "outputs": [],
      "source": [
        "#imports\n",
        "import numpy as np\n",
        "import matplotlib.pyplot as plt\n",
        "import astropy.io.ascii\n",
        "import pandas as pd\n",
        "import astropy.constants as ac\n",
        "import astropy.units as u"
      ]
    },
    {
      "cell_type": "code",
      "execution_count": null,
      "metadata": {
        "colab": {
          "base_uri": "https://localhost:8080/",
          "height": 321
        },
        "id": "H6RduBtcV395",
        "outputId": "69d7afa4-f282-4160-cceb-309e0b94d526"
      },
      "outputs": [
        {
          "output_type": "error",
          "ename": "ValueError",
          "evalue": "mount failed",
          "traceback": [
            "\u001b[0;31m---------------------------------------------------------------------------\u001b[0m",
            "\u001b[0;31mValueError\u001b[0m                                Traceback (most recent call last)",
            "\u001b[0;32m<ipython-input-3-8740ffb384f6>\u001b[0m in \u001b[0;36m<cell line: 0>\u001b[0;34m()\u001b[0m\n\u001b[1;32m      1\u001b[0m \u001b[0;31m#give colab access to drive\u001b[0m\u001b[0;34m\u001b[0m\u001b[0;34m\u001b[0m\u001b[0m\n\u001b[1;32m      2\u001b[0m \u001b[0;32mfrom\u001b[0m \u001b[0mgoogle\u001b[0m\u001b[0;34m.\u001b[0m\u001b[0mcolab\u001b[0m \u001b[0;32mimport\u001b[0m \u001b[0mdrive\u001b[0m\u001b[0;34m\u001b[0m\u001b[0;34m\u001b[0m\u001b[0m\n\u001b[0;32m----> 3\u001b[0;31m \u001b[0mdrive\u001b[0m\u001b[0;34m.\u001b[0m\u001b[0mmount\u001b[0m\u001b[0;34m(\u001b[0m\u001b[0;34m'/content/drive'\u001b[0m\u001b[0;34m)\u001b[0m\u001b[0;34m\u001b[0m\u001b[0;34m\u001b[0m\u001b[0m\n\u001b[0m",
            "\u001b[0;32m/usr/local/lib/python3.11/dist-packages/google/colab/drive.py\u001b[0m in \u001b[0;36mmount\u001b[0;34m(mountpoint, force_remount, timeout_ms, readonly)\u001b[0m\n\u001b[1;32m     98\u001b[0m \u001b[0;32mdef\u001b[0m \u001b[0mmount\u001b[0m\u001b[0;34m(\u001b[0m\u001b[0mmountpoint\u001b[0m\u001b[0;34m,\u001b[0m \u001b[0mforce_remount\u001b[0m\u001b[0;34m=\u001b[0m\u001b[0;32mFalse\u001b[0m\u001b[0;34m,\u001b[0m \u001b[0mtimeout_ms\u001b[0m\u001b[0;34m=\u001b[0m\u001b[0;36m120000\u001b[0m\u001b[0;34m,\u001b[0m \u001b[0mreadonly\u001b[0m\u001b[0;34m=\u001b[0m\u001b[0;32mFalse\u001b[0m\u001b[0;34m)\u001b[0m\u001b[0;34m:\u001b[0m\u001b[0;34m\u001b[0m\u001b[0;34m\u001b[0m\u001b[0m\n\u001b[1;32m     99\u001b[0m   \u001b[0;34m\"\"\"Mount your Google Drive at the specified mountpoint path.\"\"\"\u001b[0m\u001b[0;34m\u001b[0m\u001b[0;34m\u001b[0m\u001b[0m\n\u001b[0;32m--> 100\u001b[0;31m   return _mount(\n\u001b[0m\u001b[1;32m    101\u001b[0m       \u001b[0mmountpoint\u001b[0m\u001b[0;34m,\u001b[0m\u001b[0;34m\u001b[0m\u001b[0;34m\u001b[0m\u001b[0m\n\u001b[1;32m    102\u001b[0m       \u001b[0mforce_remount\u001b[0m\u001b[0;34m=\u001b[0m\u001b[0mforce_remount\u001b[0m\u001b[0;34m,\u001b[0m\u001b[0;34m\u001b[0m\u001b[0;34m\u001b[0m\u001b[0m\n",
            "\u001b[0;32m/usr/local/lib/python3.11/dist-packages/google/colab/drive.py\u001b[0m in \u001b[0;36m_mount\u001b[0;34m(mountpoint, force_remount, timeout_ms, ephemeral, readonly)\u001b[0m\n\u001b[1;32m    275\u001b[0m             \u001b[0;34m'https://research.google.com/colaboratory/faq.html#drive-timeout'\u001b[0m\u001b[0;34m\u001b[0m\u001b[0;34m\u001b[0m\u001b[0m\n\u001b[1;32m    276\u001b[0m         )\n\u001b[0;32m--> 277\u001b[0;31m       \u001b[0;32mraise\u001b[0m \u001b[0mValueError\u001b[0m\u001b[0;34m(\u001b[0m\u001b[0;34m'mount failed'\u001b[0m \u001b[0;34m+\u001b[0m \u001b[0mextra_reason\u001b[0m\u001b[0;34m)\u001b[0m\u001b[0;34m\u001b[0m\u001b[0;34m\u001b[0m\u001b[0m\n\u001b[0m\u001b[1;32m    278\u001b[0m     \u001b[0;32melif\u001b[0m \u001b[0mcase\u001b[0m \u001b[0;34m==\u001b[0m \u001b[0;36m4\u001b[0m\u001b[0;34m:\u001b[0m\u001b[0;34m\u001b[0m\u001b[0;34m\u001b[0m\u001b[0m\n\u001b[1;32m    279\u001b[0m       \u001b[0;31m# Terminate the DriveFS binary before killing bash.\u001b[0m\u001b[0;34m\u001b[0m\u001b[0;34m\u001b[0m\u001b[0m\n",
            "\u001b[0;31mValueError\u001b[0m: mount failed"
          ]
        }
      ],
      "source": [
        "#give colab access to drive\n",
        "from google.colab import drive\n",
        "drive.mount('/content/drive')"
      ]
    },
    {
      "cell_type": "code",
      "execution_count": null,
      "metadata": {
        "id": "jK_hPGJIXUDQ",
        "colab": {
          "base_uri": "https://localhost:8080/",
          "height": 304
        },
        "outputId": "fcb803e0-0b42-4e2c-d438-c499fe37da68"
      },
      "outputs": [
        {
          "output_type": "error",
          "ename": "FileNotFoundError",
          "evalue": "[Errno 2] No such file or directory: '/content/drive/My Drive/Colab Notebooks/EARTHSCI 5205 TEAM 8/PS_2025.01.22_11.55.20.csv'",
          "traceback": [
            "\u001b[0;31m---------------------------------------------------------------------------\u001b[0m",
            "\u001b[0;31mFileNotFoundError\u001b[0m                         Traceback (most recent call last)",
            "\u001b[0;32m<ipython-input-5-176ec61ac645>\u001b[0m in \u001b[0;36m<cell line: 0>\u001b[0;34m()\u001b[0m\n\u001b[1;32m      1\u001b[0m \u001b[0;31m#create table with data from NEA\u001b[0m\u001b[0;34m\u001b[0m\u001b[0;34m\u001b[0m\u001b[0m\n\u001b[0;32m----> 2\u001b[0;31m \u001b[0mtab\u001b[0m \u001b[0;34m=\u001b[0m \u001b[0mastropy\u001b[0m\u001b[0;34m.\u001b[0m\u001b[0mio\u001b[0m\u001b[0;34m.\u001b[0m\u001b[0mascii\u001b[0m\u001b[0;34m.\u001b[0m\u001b[0mread\u001b[0m\u001b[0;34m(\u001b[0m\u001b[0;34m\"/content/drive/My Drive/Colab Notebooks/EARTHSCI 5205 TEAM 8/PS_2025.01.22_11.55.20.csv\"\u001b[0m\u001b[0;34m)\u001b[0m\u001b[0;34m\u001b[0m\u001b[0;34m\u001b[0m\u001b[0m\n\u001b[0m",
            "\u001b[0;32m/usr/local/lib/python3.11/dist-packages/astropy/utils/decorators.py\u001b[0m in \u001b[0;36mwrapper\u001b[0;34m(*args, **kwargs)\u001b[0m\n\u001b[1;32m    601\u001b[0m                     \u001b[0mwarnings\u001b[0m\u001b[0;34m.\u001b[0m\u001b[0mwarn\u001b[0m\u001b[0;34m(\u001b[0m\u001b[0mmsg\u001b[0m\u001b[0;34m,\u001b[0m \u001b[0mwarning_type\u001b[0m\u001b[0;34m,\u001b[0m \u001b[0mstacklevel\u001b[0m\u001b[0;34m=\u001b[0m\u001b[0;36m2\u001b[0m\u001b[0;34m)\u001b[0m\u001b[0;34m\u001b[0m\u001b[0;34m\u001b[0m\u001b[0m\n\u001b[1;32m    602\u001b[0m \u001b[0;34m\u001b[0m\u001b[0m\n\u001b[0;32m--> 603\u001b[0;31m             \u001b[0;32mreturn\u001b[0m \u001b[0mfunction\u001b[0m\u001b[0;34m(\u001b[0m\u001b[0;34m*\u001b[0m\u001b[0margs\u001b[0m\u001b[0;34m,\u001b[0m \u001b[0;34m**\u001b[0m\u001b[0mkwargs\u001b[0m\u001b[0;34m)\u001b[0m\u001b[0;34m\u001b[0m\u001b[0;34m\u001b[0m\u001b[0m\n\u001b[0m\u001b[1;32m    604\u001b[0m \u001b[0;34m\u001b[0m\u001b[0m\n\u001b[1;32m    605\u001b[0m         \u001b[0;32mreturn\u001b[0m \u001b[0mwrapper\u001b[0m\u001b[0;34m\u001b[0m\u001b[0;34m\u001b[0m\u001b[0m\n",
            "\u001b[0;32m/usr/local/lib/python3.11/dist-packages/astropy/utils/decorators.py\u001b[0m in \u001b[0;36mwrapper\u001b[0;34m(*args, **kwargs)\u001b[0m\n\u001b[1;32m    601\u001b[0m                     \u001b[0mwarnings\u001b[0m\u001b[0;34m.\u001b[0m\u001b[0mwarn\u001b[0m\u001b[0;34m(\u001b[0m\u001b[0mmsg\u001b[0m\u001b[0;34m,\u001b[0m \u001b[0mwarning_type\u001b[0m\u001b[0;34m,\u001b[0m \u001b[0mstacklevel\u001b[0m\u001b[0;34m=\u001b[0m\u001b[0;36m2\u001b[0m\u001b[0;34m)\u001b[0m\u001b[0;34m\u001b[0m\u001b[0;34m\u001b[0m\u001b[0m\n\u001b[1;32m    602\u001b[0m \u001b[0;34m\u001b[0m\u001b[0m\n\u001b[0;32m--> 603\u001b[0;31m             \u001b[0;32mreturn\u001b[0m \u001b[0mfunction\u001b[0m\u001b[0;34m(\u001b[0m\u001b[0;34m*\u001b[0m\u001b[0margs\u001b[0m\u001b[0;34m,\u001b[0m \u001b[0;34m**\u001b[0m\u001b[0mkwargs\u001b[0m\u001b[0;34m)\u001b[0m\u001b[0;34m\u001b[0m\u001b[0;34m\u001b[0m\u001b[0m\n\u001b[0m\u001b[1;32m    604\u001b[0m \u001b[0;34m\u001b[0m\u001b[0m\n\u001b[1;32m    605\u001b[0m         \u001b[0;32mreturn\u001b[0m \u001b[0mwrapper\u001b[0m\u001b[0;34m\u001b[0m\u001b[0;34m\u001b[0m\u001b[0m\n",
            "\u001b[0;32m/usr/local/lib/python3.11/dist-packages/astropy/utils/decorators.py\u001b[0m in \u001b[0;36mwrapper\u001b[0;34m(*args, **kwargs)\u001b[0m\n\u001b[1;32m    601\u001b[0m                     \u001b[0mwarnings\u001b[0m\u001b[0;34m.\u001b[0m\u001b[0mwarn\u001b[0m\u001b[0;34m(\u001b[0m\u001b[0mmsg\u001b[0m\u001b[0;34m,\u001b[0m \u001b[0mwarning_type\u001b[0m\u001b[0;34m,\u001b[0m \u001b[0mstacklevel\u001b[0m\u001b[0;34m=\u001b[0m\u001b[0;36m2\u001b[0m\u001b[0;34m)\u001b[0m\u001b[0;34m\u001b[0m\u001b[0;34m\u001b[0m\u001b[0m\n\u001b[1;32m    602\u001b[0m \u001b[0;34m\u001b[0m\u001b[0m\n\u001b[0;32m--> 603\u001b[0;31m             \u001b[0;32mreturn\u001b[0m \u001b[0mfunction\u001b[0m\u001b[0;34m(\u001b[0m\u001b[0;34m*\u001b[0m\u001b[0margs\u001b[0m\u001b[0;34m,\u001b[0m \u001b[0;34m**\u001b[0m\u001b[0mkwargs\u001b[0m\u001b[0;34m)\u001b[0m\u001b[0;34m\u001b[0m\u001b[0;34m\u001b[0m\u001b[0m\n\u001b[0m\u001b[1;32m    604\u001b[0m \u001b[0;34m\u001b[0m\u001b[0m\n\u001b[1;32m    605\u001b[0m         \u001b[0;32mreturn\u001b[0m \u001b[0mwrapper\u001b[0m\u001b[0;34m\u001b[0m\u001b[0;34m\u001b[0m\u001b[0m\n",
            "\u001b[0;32m/usr/local/lib/python3.11/dist-packages/astropy/utils/decorators.py\u001b[0m in \u001b[0;36mwrapper\u001b[0;34m(*args, **kwargs)\u001b[0m\n\u001b[1;32m    601\u001b[0m                     \u001b[0mwarnings\u001b[0m\u001b[0;34m.\u001b[0m\u001b[0mwarn\u001b[0m\u001b[0;34m(\u001b[0m\u001b[0mmsg\u001b[0m\u001b[0;34m,\u001b[0m \u001b[0mwarning_type\u001b[0m\u001b[0;34m,\u001b[0m \u001b[0mstacklevel\u001b[0m\u001b[0;34m=\u001b[0m\u001b[0;36m2\u001b[0m\u001b[0;34m)\u001b[0m\u001b[0;34m\u001b[0m\u001b[0;34m\u001b[0m\u001b[0m\n\u001b[1;32m    602\u001b[0m \u001b[0;34m\u001b[0m\u001b[0m\n\u001b[0;32m--> 603\u001b[0;31m             \u001b[0;32mreturn\u001b[0m \u001b[0mfunction\u001b[0m\u001b[0;34m(\u001b[0m\u001b[0;34m*\u001b[0m\u001b[0margs\u001b[0m\u001b[0;34m,\u001b[0m \u001b[0;34m**\u001b[0m\u001b[0mkwargs\u001b[0m\u001b[0;34m)\u001b[0m\u001b[0;34m\u001b[0m\u001b[0;34m\u001b[0m\u001b[0m\n\u001b[0m\u001b[1;32m    604\u001b[0m \u001b[0;34m\u001b[0m\u001b[0m\n\u001b[1;32m    605\u001b[0m         \u001b[0;32mreturn\u001b[0m \u001b[0mwrapper\u001b[0m\u001b[0;34m\u001b[0m\u001b[0;34m\u001b[0m\u001b[0m\n",
            "\u001b[0;32m/usr/local/lib/python3.11/dist-packages/astropy/utils/decorators.py\u001b[0m in \u001b[0;36mwrapper\u001b[0;34m(*args, **kwargs)\u001b[0m\n\u001b[1;32m    601\u001b[0m                     \u001b[0mwarnings\u001b[0m\u001b[0;34m.\u001b[0m\u001b[0mwarn\u001b[0m\u001b[0;34m(\u001b[0m\u001b[0mmsg\u001b[0m\u001b[0;34m,\u001b[0m \u001b[0mwarning_type\u001b[0m\u001b[0;34m,\u001b[0m \u001b[0mstacklevel\u001b[0m\u001b[0;34m=\u001b[0m\u001b[0;36m2\u001b[0m\u001b[0;34m)\u001b[0m\u001b[0;34m\u001b[0m\u001b[0;34m\u001b[0m\u001b[0m\n\u001b[1;32m    602\u001b[0m \u001b[0;34m\u001b[0m\u001b[0m\n\u001b[0;32m--> 603\u001b[0;31m             \u001b[0;32mreturn\u001b[0m \u001b[0mfunction\u001b[0m\u001b[0;34m(\u001b[0m\u001b[0;34m*\u001b[0m\u001b[0margs\u001b[0m\u001b[0;34m,\u001b[0m \u001b[0;34m**\u001b[0m\u001b[0mkwargs\u001b[0m\u001b[0;34m)\u001b[0m\u001b[0;34m\u001b[0m\u001b[0;34m\u001b[0m\u001b[0m\n\u001b[0m\u001b[1;32m    604\u001b[0m \u001b[0;34m\u001b[0m\u001b[0m\n\u001b[1;32m    605\u001b[0m         \u001b[0;32mreturn\u001b[0m \u001b[0mwrapper\u001b[0m\u001b[0;34m\u001b[0m\u001b[0;34m\u001b[0m\u001b[0m\n",
            "\u001b[0;32m/usr/local/lib/python3.11/dist-packages/astropy/io/ascii/ui.py\u001b[0m in \u001b[0;36mread\u001b[0;34m(table, guess, **kwargs)\u001b[0m\n\u001b[1;32m    407\u001b[0m         \u001b[0;31m# through below to the non-guess way so that any problems result in a\u001b[0m\u001b[0;34m\u001b[0m\u001b[0;34m\u001b[0m\u001b[0m\n\u001b[1;32m    408\u001b[0m         \u001b[0;31m# more useful traceback.\u001b[0m\u001b[0;34m\u001b[0m\u001b[0;34m\u001b[0m\u001b[0m\n\u001b[0;32m--> 409\u001b[0;31m         \u001b[0mdat\u001b[0m \u001b[0;34m=\u001b[0m \u001b[0m_guess\u001b[0m\u001b[0;34m(\u001b[0m\u001b[0mtable\u001b[0m\u001b[0;34m,\u001b[0m \u001b[0mnew_kwargs\u001b[0m\u001b[0;34m,\u001b[0m \u001b[0mformat\u001b[0m\u001b[0;34m,\u001b[0m \u001b[0mfast_reader\u001b[0m\u001b[0;34m)\u001b[0m\u001b[0;34m\u001b[0m\u001b[0;34m\u001b[0m\u001b[0m\n\u001b[0m\u001b[1;32m    410\u001b[0m         \u001b[0;32mif\u001b[0m \u001b[0mdat\u001b[0m \u001b[0;32mis\u001b[0m \u001b[0;32mNone\u001b[0m\u001b[0;34m:\u001b[0m\u001b[0;34m\u001b[0m\u001b[0;34m\u001b[0m\u001b[0m\n\u001b[1;32m    411\u001b[0m             \u001b[0mguess\u001b[0m \u001b[0;34m=\u001b[0m \u001b[0;32mFalse\u001b[0m\u001b[0;34m\u001b[0m\u001b[0;34m\u001b[0m\u001b[0m\n",
            "\u001b[0;32m/usr/local/lib/python3.11/dist-packages/astropy/io/ascii/ui.py\u001b[0m in \u001b[0;36m_guess\u001b[0;34m(table, read_kwargs, format, fast_reader)\u001b[0m\n\u001b[1;32m    614\u001b[0m \u001b[0;34m\u001b[0m\u001b[0m\n\u001b[1;32m    615\u001b[0m             \u001b[0mreader\u001b[0m\u001b[0;34m.\u001b[0m\u001b[0mguessing\u001b[0m \u001b[0;34m=\u001b[0m \u001b[0;32mTrue\u001b[0m\u001b[0;34m\u001b[0m\u001b[0;34m\u001b[0m\u001b[0m\n\u001b[0;32m--> 616\u001b[0;31m             \u001b[0mdat\u001b[0m \u001b[0;34m=\u001b[0m \u001b[0mreader\u001b[0m\u001b[0;34m.\u001b[0m\u001b[0mread\u001b[0m\u001b[0;34m(\u001b[0m\u001b[0mtable\u001b[0m\u001b[0;34m)\u001b[0m\u001b[0;34m\u001b[0m\u001b[0;34m\u001b[0m\u001b[0m\n\u001b[0m\u001b[1;32m    617\u001b[0m             _read_trace.append(\n\u001b[1;32m    618\u001b[0m                 {\n",
            "\u001b[0;32m/usr/local/lib/python3.11/dist-packages/astropy/io/ascii/core.py\u001b[0m in \u001b[0;36mread\u001b[0;34m(self, table)\u001b[0m\n\u001b[1;32m   1420\u001b[0m \u001b[0;34m\u001b[0m\u001b[0m\n\u001b[1;32m   1421\u001b[0m         \u001b[0;31m# Get a list of the lines (rows) in the table\u001b[0m\u001b[0;34m\u001b[0m\u001b[0;34m\u001b[0m\u001b[0m\n\u001b[0;32m-> 1422\u001b[0;31m         \u001b[0mself\u001b[0m\u001b[0;34m.\u001b[0m\u001b[0mlines\u001b[0m \u001b[0;34m=\u001b[0m \u001b[0mself\u001b[0m\u001b[0;34m.\u001b[0m\u001b[0minputter\u001b[0m\u001b[0;34m.\u001b[0m\u001b[0mget_lines\u001b[0m\u001b[0;34m(\u001b[0m\u001b[0mtable\u001b[0m\u001b[0;34m,\u001b[0m \u001b[0mnewline\u001b[0m\u001b[0;34m=\u001b[0m\u001b[0mnewline\u001b[0m\u001b[0;34m)\u001b[0m\u001b[0;34m\u001b[0m\u001b[0;34m\u001b[0m\u001b[0m\n\u001b[0m\u001b[1;32m   1423\u001b[0m \u001b[0;34m\u001b[0m\u001b[0m\n\u001b[1;32m   1424\u001b[0m         \u001b[0;31m# Set self.data.data_lines to a slice of lines contain the data rows\u001b[0m\u001b[0;34m\u001b[0m\u001b[0;34m\u001b[0m\u001b[0m\n",
            "\u001b[0;32m/usr/local/lib/python3.11/dist-packages/astropy/io/ascii/core.py\u001b[0m in \u001b[0;36mget_lines\u001b[0;34m(self, table, newline)\u001b[0m\n\u001b[1;32m    332\u001b[0m                 \u001b[0;34m\"\\n\"\u001b[0m \u001b[0;32mnot\u001b[0m \u001b[0;32min\u001b[0m \u001b[0mtable\u001b[0m \u001b[0;34m+\u001b[0m \u001b[0;34m\"\"\u001b[0m \u001b[0;32mand\u001b[0m \u001b[0;34m\"\\r\"\u001b[0m \u001b[0;32mnot\u001b[0m \u001b[0;32min\u001b[0m \u001b[0mtable\u001b[0m \u001b[0;34m+\u001b[0m \u001b[0;34m\"\"\u001b[0m\u001b[0;34m\u001b[0m\u001b[0;34m\u001b[0m\u001b[0m\n\u001b[1;32m    333\u001b[0m             ):\n\u001b[0;32m--> 334\u001b[0;31m                 \u001b[0;32mwith\u001b[0m \u001b[0mget_readable_fileobj\u001b[0m\u001b[0;34m(\u001b[0m\u001b[0mtable\u001b[0m\u001b[0;34m,\u001b[0m \u001b[0mencoding\u001b[0m\u001b[0;34m=\u001b[0m\u001b[0mself\u001b[0m\u001b[0;34m.\u001b[0m\u001b[0mencoding\u001b[0m\u001b[0;34m)\u001b[0m \u001b[0;32mas\u001b[0m \u001b[0mfileobj\u001b[0m\u001b[0;34m:\u001b[0m\u001b[0;34m\u001b[0m\u001b[0;34m\u001b[0m\u001b[0m\n\u001b[0m\u001b[1;32m    335\u001b[0m                     \u001b[0mtable\u001b[0m \u001b[0;34m=\u001b[0m \u001b[0mfileobj\u001b[0m\u001b[0;34m.\u001b[0m\u001b[0mread\u001b[0m\u001b[0;34m(\u001b[0m\u001b[0;34m)\u001b[0m\u001b[0;34m\u001b[0m\u001b[0;34m\u001b[0m\u001b[0m\n\u001b[1;32m    336\u001b[0m             \u001b[0;32mif\u001b[0m \u001b[0mnewline\u001b[0m \u001b[0;32mis\u001b[0m \u001b[0;32mNone\u001b[0m\u001b[0;34m:\u001b[0m\u001b[0;34m\u001b[0m\u001b[0;34m\u001b[0m\u001b[0m\n",
            "\u001b[0;32m/usr/lib/python3.11/contextlib.py\u001b[0m in \u001b[0;36m__enter__\u001b[0;34m(self)\u001b[0m\n\u001b[1;32m    135\u001b[0m         \u001b[0;32mdel\u001b[0m \u001b[0mself\u001b[0m\u001b[0;34m.\u001b[0m\u001b[0margs\u001b[0m\u001b[0;34m,\u001b[0m \u001b[0mself\u001b[0m\u001b[0;34m.\u001b[0m\u001b[0mkwds\u001b[0m\u001b[0;34m,\u001b[0m \u001b[0mself\u001b[0m\u001b[0;34m.\u001b[0m\u001b[0mfunc\u001b[0m\u001b[0;34m\u001b[0m\u001b[0;34m\u001b[0m\u001b[0m\n\u001b[1;32m    136\u001b[0m         \u001b[0;32mtry\u001b[0m\u001b[0;34m:\u001b[0m\u001b[0;34m\u001b[0m\u001b[0;34m\u001b[0m\u001b[0m\n\u001b[0;32m--> 137\u001b[0;31m             \u001b[0;32mreturn\u001b[0m \u001b[0mnext\u001b[0m\u001b[0;34m(\u001b[0m\u001b[0mself\u001b[0m\u001b[0;34m.\u001b[0m\u001b[0mgen\u001b[0m\u001b[0;34m)\u001b[0m\u001b[0;34m\u001b[0m\u001b[0;34m\u001b[0m\u001b[0m\n\u001b[0m\u001b[1;32m    138\u001b[0m         \u001b[0;32mexcept\u001b[0m \u001b[0mStopIteration\u001b[0m\u001b[0;34m:\u001b[0m\u001b[0;34m\u001b[0m\u001b[0;34m\u001b[0m\u001b[0m\n\u001b[1;32m    139\u001b[0m             \u001b[0;32mraise\u001b[0m \u001b[0mRuntimeError\u001b[0m\u001b[0;34m(\u001b[0m\u001b[0;34m\"generator didn't yield\"\u001b[0m\u001b[0;34m)\u001b[0m \u001b[0;32mfrom\u001b[0m \u001b[0;32mNone\u001b[0m\u001b[0;34m\u001b[0m\u001b[0;34m\u001b[0m\u001b[0m\n",
            "\u001b[0;32m/usr/local/lib/python3.11/dist-packages/astropy/utils/data.py\u001b[0m in \u001b[0;36mget_readable_fileobj\u001b[0;34m(name_or_obj, encoding, cache, show_progress, remote_timeout, sources, http_headers, use_fsspec, fsspec_kwargs, close_files)\u001b[0m\n\u001b[1;32m    364\u001b[0m                     \u001b[0mhttp_headers\u001b[0m\u001b[0;34m=\u001b[0m\u001b[0mhttp_headers\u001b[0m\u001b[0;34m,\u001b[0m\u001b[0;34m\u001b[0m\u001b[0;34m\u001b[0m\u001b[0m\n\u001b[1;32m    365\u001b[0m                 )\n\u001b[0;32m--> 366\u001b[0;31m             \u001b[0mfileobj\u001b[0m \u001b[0;34m=\u001b[0m \u001b[0mio\u001b[0m\u001b[0;34m.\u001b[0m\u001b[0mFileIO\u001b[0m\u001b[0;34m(\u001b[0m\u001b[0mname_or_obj\u001b[0m\u001b[0;34m,\u001b[0m \u001b[0;34m\"r\"\u001b[0m\u001b[0;34m)\u001b[0m\u001b[0;34m\u001b[0m\u001b[0;34m\u001b[0m\u001b[0m\n\u001b[0m\u001b[1;32m    367\u001b[0m             \u001b[0;32mif\u001b[0m \u001b[0mis_url\u001b[0m \u001b[0;32mand\u001b[0m \u001b[0;32mnot\u001b[0m \u001b[0mcache\u001b[0m\u001b[0;34m:\u001b[0m\u001b[0;34m\u001b[0m\u001b[0;34m\u001b[0m\u001b[0m\n\u001b[1;32m    368\u001b[0m                 \u001b[0mdelete_fds\u001b[0m\u001b[0;34m.\u001b[0m\u001b[0mappend\u001b[0m\u001b[0;34m(\u001b[0m\u001b[0mfileobj\u001b[0m\u001b[0;34m)\u001b[0m\u001b[0;34m\u001b[0m\u001b[0;34m\u001b[0m\u001b[0m\n",
            "\u001b[0;31mFileNotFoundError\u001b[0m: [Errno 2] No such file or directory: '/content/drive/My Drive/Colab Notebooks/EARTHSCI 5205 TEAM 8/PS_2025.01.22_11.55.20.csv'"
          ]
        }
      ],
      "source": [
        "#create table with data from NEA\n",
        "tab = astropy.io.ascii.read(\"/content/drive/My Drive/Colab Notebooks/EARTHSCI 5205 TEAM 8/PS_2025.01.22_11.55.20.csv\")"
      ]
    },
    {
      "cell_type": "code",
      "source": [
        "# List of Solar System Planets to overlay\n",
        "\n",
        "planets = {\"Names\": [\"Mercury\", \"Venus\", \"Earth\", \"Mars\", \"Jupiter\", \"Saturn\", \"Uranus\", \"Neptune\"],\n",
        "           \"Mj\": [0.00017, 0.0025636485, 0.00314558, 0.00033657716, 1., 0.29933348, 0.045736747, 0.053946713],\n",
        "           \"Rj\": [0.03416, 0.08474, 0.08292, 0.04755, 1., 0.81544, 0.35748, 0.34195],\n",
        "           \"P\": [87.9691, 224.701, 365.25, 686.980, 4332.589, 10755.7, 30688.5, 60195.0],\n",
        "           \"SMAx\": [0.387098, 0.723332, 1., 1.523, 5.2038, 9.5826, 19.191, 30.07]}\n",
        "solarsystem = pd.DataFrame(data=planets)"
      ],
      "metadata": {
        "id": "nMEpNz1-Ho4_"
      },
      "execution_count": null,
      "outputs": []
    },
    {
      "cell_type": "markdown",
      "metadata": {
        "id": "lPLXGRWQnA3S"
      },
      "source": [
        "# After creating the table with the NEA data, we plot the period vs the radius:"
      ]
    },
    {
      "cell_type": "code",
      "source": [
        "#labelling each detection method\n",
        "transit = np.where(tab[\"discoverymethod\"] == \"Transit\")\n",
        "rv = np.where(tab[\"discoverymethod\"] == \"Radial Velocity\")\n",
        "imaging = np.where(tab[\"discoverymethod\"] == \"Imaging\")\n",
        "astrometry = np.where(tab[\"discoverymethod\"] == \"Astrometry\")\n",
        "microlensing = np.where(tab[\"discoverymethod\"] == \"Microlensing\")\n",
        "eclipsetiming = np.where(tab[\"discoverymethod\"] == \"Eclipse Timing Variations\")\n",
        "diskkinematics = np.where(tab[\"discoverymethod\"] == \"Disk Kinematics\")\n",
        "orbital = np.where(tab[\"discoverymethod\"] == \"Orbital Brightness Modulation\")\n",
        "pulsars = np.where(tab[\"discoverymethod\"] == \"Pulsar Timing\")\n",
        "pulsarvariation = np.where(tab[\"discoverymethod\"] == \"Pulsar Timing Variations\")\n",
        "transitvariation = np.where(tab[\"discoverymethod\"] == \"Transit Timing Variations\")"
      ],
      "metadata": {
        "id": "JgAXWLCAAIGE"
      },
      "execution_count": null,
      "outputs": []
    },
    {
      "cell_type": "code",
      "execution_count": null,
      "metadata": {
        "id": "69ZnwGLUl31d"
      },
      "outputs": [],
      "source": [
        "plt.title(\"Radius vs. Period\")\n",
        "plt.xscale(\"log\")\n",
        "plt.yscale(\"log\")\n",
        "plt.xlabel(\"PERIOD (DAYS)\")\n",
        "plt.ylabel(r\"RADIUS (R$_{Jupiter}$)\")\n",
        "plt.xlim(10**(-0.8), 10**(5.0))\n",
        "plt.ylim(10**(-1.8), 10**(0.5))\n",
        "plt.plot(tab[\"pl_orbper\"][transit], tab[\"pl_radj\"][transit], \"g.\", alpha=0.75, label=\"Transit\")\n",
        "plt.plot(tab[\"pl_orbper\"][rv], tab[\"pl_radj\"][rv], \"b.\", alpha=0.75, label=\"Radial Velocity\")\n",
        "plt.plot(tab[\"pl_orbper\"][imaging], tab[\"pl_radj\"][imaging], \"r.\", alpha=0.75, label=\"Imaging\")\n",
        "#plt.plot(tab[\"pl_orbper\"][astrometry], tab[\"pl_radj\"][astrometry], \"y.\", alpha=0.75, label=\"Astrometry\")\n",
        "#plt.plot(tab[\"pl_orbper\"][microlensing], tab[\"pl_radj\"][microlensing], \"k.\", alpha=0.75, label=\"Microlensing\")\n",
        "#plt.plot(tab[\"pl_orbper\"][eclipsetiming], tab[\"pl_radj\"][eclipsetiming], \"m.\", alpha=0.75, label=\"Eclipse Timing Variations\")\n",
        "#plt.plot(tab[\"pl_orbper\"][diskkinematics], tab[\"pl_radj\"][diskkinematics], \"c.\", alpha=0.75, label=\"Disk Kinematics\")\n",
        "plt.scatter(tab[\"pl_orbper\"][orbital], tab[\"pl_radj\"][orbital], c = \"chocolate\", s = 10, alpha=0.75, label=\"Orbital Brightness Modulation\")\n",
        "#plt.plot(tab[\"pl_orbper\"][pulsars], tab[\"pl_radj\"][pulsars], \"y.\", alpha=0.75, label=\"Pulsar Timing\")\n",
        "#plt.plot(tab[\"pl_orbper\"][pulsarvariation], tab[\"pl_radj\"][pulsarvariation], \"k.\", alpha=0.75, label=\"Pulsar Timing Variations\")\n",
        "plt.plot(tab[\"pl_orbper\"][transitvariation], tab[\"pl_radj\"][transitvariation], \"m.\", alpha=0.75, label=\"Transit Timing Variations\")\n",
        "plt.plot(solarsystem[\"P\"], solarsystem[\"Rj\"], \"k+\", alpha=0.75, label=\"Solar System Planets\")\n",
        "plt.legend(loc='center left', bbox_to_anchor=(1, 0.5))\n",
        "plt.show()"
      ]
    },
    {
      "cell_type": "code",
      "execution_count": null,
      "metadata": {
        "id": "fJ6XghAvqS88"
      },
      "outputs": [],
      "source": [
        "plt.title(\"Radius vs Semi-Major Axis\")\n",
        "plt.xscale(\"log\")\n",
        "plt.yscale(\"log\")\n",
        "plt.xlabel(\"SEMI-MAJOR AXIS (AU)\")\n",
        "plt.ylabel(r\"RADIUS (R$_{Jupiter}$)\")\n",
        "plt.xlim(10**(-2.5), 10**(1.6))\n",
        "plt.ylim(10**(-1.8), 10**(0.5))\n",
        "plt.plot(tab[\"pl_orbsmax\"][transit], tab[\"pl_radj\"][transit], \"g.\", alpha=0.75, label=\"Transit\")\n",
        "plt.plot(tab[\"pl_orbsmax\"][rv], tab[\"pl_radj\"][rv], \"b.\", alpha=0.75, label=\"Radial Velocity\")\n",
        "plt.plot(tab[\"pl_orbsmax\"][imaging], tab[\"pl_radj\"][imaging], \"r.\", alpha=0.75, label=\"Imaging\")\n",
        "#plt.plot(tab[\"pl_orbsmax\"][astrometry], tab[\"pl_radj\"][astrometry], \"m.\", alpha=0.75, label=\"Astrometry\")\n",
        "#plt.plot(tab[\"pl_orbsmax\"][microlensing], tab[\"pl_radj\"][microlensing], \"k.\", alpha=0.75, label=\"Microlensing\")\n",
        "#plt.plot(tab[\"pl_orbsmax\"][eclipsetiming], tab[\"pl_radj\"][eclipsetiming], \"y.\", alpha=0.75, label=\"Eclipse Timing Variations\")\n",
        "#plt.plot(tab[\"pl_orbsmax\"][diskkinematics], tab[\"pl_radj\"][diskkinematics], \"g.\", c = \"orange\", alpha=0.75, label=\"Disk Kinematics\")\n",
        "plt.scatter(tab[\"pl_orbsmax\"][orbital], tab[\"pl_radj\"][orbital], s = 10, c = \"chocolate\", alpha=0.75, label=\"Orbital Brightness Modulation\")\n",
        "#plt.plot(tab[\"pl_orbsmax\"][pulsars], tab[\"pl_radj\"][pulsars], \"g.\", c = \"slateblue\", alpha=0.75, label=\"Pulsar Timing\")\n",
        "#plt.plot(tab[\"pl_orbsmax\"][pulsarvariation], tab[\"pl_radj\"][pulsarvariation], \"g.\", c = \"olive\", alpha=0.75, label=\"Pulsar Timing Variations\")\n",
        "#plt.plot(tab[\"pl_orbsmax\"][transitvariation], tab[\"pl_radj\"][transitvariation], \"g.\", c = \"chocolate\", alpha=0.75, label=\"Transit Timing Variations\")\n",
        "plt.plot(solarsystem[\"SMAx\"], solarsystem[\"Rj\"], \"k+\", alpha=0.75, label=\"Solar System Planets\")\n",
        "plt.legend(loc='center left', bbox_to_anchor=(1, 0.5))\n",
        "plt.show()"
      ]
    },
    {
      "cell_type": "code",
      "execution_count": null,
      "metadata": {
        "id": "2dLG40WAsgMy"
      },
      "outputs": [],
      "source": [
        "plt.xscale(\"log\")\n",
        "plt.yscale(\"log\")\n",
        "plt.xlabel(\"PERIOD (DAYS)\")\n",
        "plt.ylabel(r\"MASS (M$_{Jupiter}$)\")\n",
        "plt.title(\"Mass vs. Period\")\n",
        "plt.xlim(10**(-0.8), 10**(5.2))\n",
        "plt.ylim(10**(-3.9), 10**(2))\n",
        "plt.plot(tab[\"pl_orbper\"][transit], tab[\"pl_bmassj\"][transit], \"g.\", alpha=0.75, label=\"Transit\")\n",
        "plt.plot(tab[\"pl_orbper\"][rv], tab[\"pl_bmassj\"][rv], \"b.\", alpha=0.75, label=\"Radial Velocity\")\n",
        "plt.plot(tab[\"pl_orbper\"][imaging], tab[\"pl_bmassj\"][imaging], \"r.\", alpha=0.75, label=\"Imaging\")\n",
        "plt.plot(tab[\"pl_orbper\"][astrometry], tab[\"pl_bmassj\"][astrometry], \"m.\", alpha=0.75, label=\"Astrometry\")\n",
        "plt.plot(tab[\"pl_orbper\"][microlensing], tab[\"pl_bmassj\"][microlensing], \"k.\", alpha=0.75, label=\"Microlensing\")\n",
        "plt.plot(tab[\"pl_orbper\"][eclipsetiming], tab[\"pl_bmassj\"][eclipsetiming], \"y.\", alpha=0.75, label=\"Eclipse Timing Variations\")\n",
        "plt.scatter(tab[\"pl_orbper\"][diskkinematics], tab[\"pl_bmassj\"][diskkinematics], s = 10, c = \"orange\", alpha=0.75, label=\"Disk Kinematics\")\n",
        "plt.scatter(tab[\"pl_orbper\"][orbital], tab[\"pl_bmassj\"][orbital], s = 10, c = \"chocolate\", alpha=0.75, label=\"Orbital Brightness Modulation\")\n",
        "plt.scatter(tab[\"pl_orbper\"][pulsars], tab[\"pl_bmassj\"][pulsars], s = 10, c = \"slateblue\", alpha=0.75, label=\"Pulsar Timing\")\n",
        "plt.scatter(tab[\"pl_orbper\"][pulsarvariation], tab[\"pl_bmassj\"][pulsarvariation], s = 10, c = \"olive\", alpha=0.75, label=\"Pulsar Timing Variations\")\n",
        "plt.scatter(tab[\"pl_orbper\"][transitvariation], tab[\"pl_bmassj\"][transitvariation], s = 10, c = \"hotpink\", alpha=0.75, label=\"Transit Timing Variations\")\n",
        "plt.plot(solarsystem[\"P\"], solarsystem[\"Mj\"], \"k+\", alpha=0.75, label=\"Solar System Planets\")\n",
        "plt.legend(loc='center left', bbox_to_anchor=(1, 0.5))\n",
        "plt.show()"
      ]
    },
    {
      "cell_type": "code",
      "execution_count": null,
      "metadata": {
        "id": "dF3Jq9Q0urU7"
      },
      "outputs": [],
      "source": [
        "plt.xscale(\"log\")\n",
        "plt.yscale(\"log\")\n",
        "plt.xlabel(\"SEMI-MAJOR AXIS (AU)\")\n",
        "plt.ylabel(r\"MASS (M$_{Jupiter}$)\")\n",
        "plt.title(\"Mass vs. Semi-Major Axis\")\n",
        "plt.xlim(10**(-2.3), 10**(4))\n",
        "plt.ylim(10**(-3.9), 10**(2))\n",
        "plt.plot(tab[\"pl_orbsmax\"][transit], tab[\"pl_bmassj\"][transit], \"g.\", alpha=0.75, label=\"Transit\")\n",
        "plt.plot(tab[\"pl_orbsmax\"][rv], tab[\"pl_bmassj\"][rv], \"b.\", alpha=0.75, label=\"Radial Velocity\")\n",
        "plt.plot(tab[\"pl_orbsmax\"][imaging], tab[\"pl_bmassj\"][imaging], \"r.\", alpha=0.75, label=\"Imaging\")\n",
        "plt.plot(tab[\"pl_orbsmax\"][astrometry], tab[\"pl_bmassj\"][astrometry], \"m.\", alpha=0.75, label=\"Astrometry\")\n",
        "plt.plot(tab[\"pl_orbsmax\"][microlensing], tab[\"pl_bmassj\"][microlensing], \"k.\", alpha=0.75, label=\"Microlensing\")\n",
        "plt.plot(tab[\"pl_orbsmax\"][eclipsetiming], tab[\"pl_bmassj\"][eclipsetiming], \"y.\", alpha=0.75, label=\"Eclipse Timing Variations\")\n",
        "plt.scatter(tab[\"pl_orbsmax\"][diskkinematics], tab[\"pl_bmassj\"][diskkinematics], s = 10, c = \"orange\", alpha=0.75, label=\"Disk Kinematics\")\n",
        "plt.scatter(tab[\"pl_orbsmax\"][orbital], tab[\"pl_bmassj\"][orbital], s = 10, c = \"springgreen\", alpha=0.75, label=\"Orbital Brightness Modulation\")\n",
        "plt.scatter(tab[\"pl_orbsmax\"][pulsars], tab[\"pl_bmassj\"][pulsars], s = 10, c = \"slateblue\", alpha=0.75, label=\"Pulsar Timing\")\n",
        "plt.scatter(tab[\"pl_orbsmax\"][pulsarvariation], tab[\"pl_bmassj\"][pulsarvariation], s = 10, c = \"olive\", alpha=0.75, label=\"Pulsar Timing Variations\")\n",
        "plt.scatter(tab[\"pl_orbsmax\"][transitvariation], tab[\"pl_bmassj\"][transitvariation], s = 10, c = \"hotpink\", alpha=0.75, label=\"Transit Timing Variations\")\n",
        "plt.plot(solarsystem[\"SMAx\"], solarsystem[\"Mj\"], \"k+\", alpha=0.75, label=\"Solar System Planets\")\n",
        "plt.legend(loc='center left', bbox_to_anchor=(1, 0.5))\n",
        "plt.show()"
      ]
    },
    {
      "cell_type": "markdown",
      "metadata": {
        "id": "IiFVm_RwKiPn"
      },
      "source": [
        "# Now, to look at the sensitivity of detection for transiting planets:\n",
        "\n",
        "# $ R_p = R_{earth} \\sqrt{3\\sqrt{\\frac{P}{T}}} $\n",
        "\n",
        "# We will use an observation period (T) of one year."
      ]
    },
    {
      "cell_type": "code",
      "execution_count": null,
      "metadata": {
        "id": "Tl1q2-ItMrqS"
      },
      "outputs": [],
      "source": [
        "P_array = np.arange(1,1000,0.01) * u.day #array of periods from 1 to 1000 days\n",
        "R_p_array = np.sqrt(3 * np.sqrt(P_array / u.year)) * u.earthRad\n",
        "\n",
        "plt.title(\"Transit Sensitivity\")\n",
        "plt.xscale(\"log\")\n",
        "plt.yscale(\"log\")\n",
        "plt.xlabel(\"PERIOD (DAYS)\")\n",
        "plt.ylabel(r\"RADIUS (R$_{Jupiter}$)\")\n",
        "plt.xlim(10**(-0.8), 10**(3.3))\n",
        "plt.ylim(10**(-1.8), 10**(0.5))\n",
        "transit = np.where(tab[\"discoverymethod\"] == \"Transit\")\n",
        "rv = np.where(tab[\"discoverymethod\"] == \"Radial Velocity\")\n",
        "plt.plot(tab[\"pl_orbper\"][transit], tab[\"pl_radj\"][transit], \"g.\", alpha=0.75, label=\"Transit\")\n",
        "plt.plot(P_array.to(u.day).value, R_p_array.to(u.jupiterRad).value, color=\"blue\", label=\"Transit sensitivity\")\n",
        "plt.legend(loc='lower right')\n",
        "plt.show()"
      ]
    },
    {
      "cell_type": "markdown",
      "metadata": {
        "id": "fhIeak53RBy6"
      },
      "source": [
        "# Now for sensitivity for radial velocity detection:\n",
        "\n",
        "# $ m_p = K * M_{*} \\cdot \\sqrt(\\frac{a}{(G M_{*}))}) $\n",
        "\n",
        "# If we assume a star mass of 0.5 solar mass:\n",
        "\n",
        "# $ m_p = K * 0.5 M_{\\odot} \\cdot \\sqrt(\\frac{a}{(G  (0.5 M_{\\odot}))}) $\n",
        "\n",
        "# And if we assume K = 0.5 m/s:\n",
        "\n",
        "# $ m_p = 0.25 M_{\\odot} \\cdot \\sqrt(\\frac{a}{(G  (0.5 M_{\\odot}))}) $"
      ]
    },
    {
      "cell_type": "code",
      "execution_count": null,
      "metadata": {
        "id": "Mlv6E0gqQkF5"
      },
      "outputs": [],
      "source": [
        "axis_array = np.arange(10**(-2),1000,0.01) * u.AU #array of semi-major axes from 0.001 to 1000 AU\n",
        "\n",
        "m_p_array = 0.25 * u.meter / u.second * u.solMass * np.sqrt(axis_array / (ac.G * (0.5 * u.solMass)))\n",
        "\n",
        "plt.xscale(\"log\")\n",
        "plt.yscale(\"log\")\n",
        "plt.xlabel(\"SEMI-MAJOR AXIS (AU)\")\n",
        "plt.ylabel(r\"MASS (M$_{Jupiter}$)\")\n",
        "plt.title(\"RV Sensitivity\")\n",
        "transit = np.where(tab[\"discoverymethod\"] == \"Transit\")\n",
        "rv = np.where(tab[\"discoverymethod\"] == \"Radial Velocity\")\n",
        "plt.plot(tab[\"pl_orbsmax\"][rv], tab[\"pl_bmassj\"][rv], \"b.\", alpha=0.75, label=\"Radial Velocity\")\n",
        "plt.plot(axis_array.value, m_p_array.to(u.jupiterMass), color=\"red\", label=\"RV sensitivity\")\n",
        "plt.legend()\n",
        "plt.show()"
      ]
    },
    {
      "cell_type": "markdown",
      "source": [
        "# Now for sensitivity for imaging:\n",
        "\n",
        "$ \\theta = 1.22 \\frac{\\lambda}{D} $\n",
        "\n",
        "With small angle approximation: $ \\theta = \\frac{a}{d} $\n",
        "\n",
        "$ a = 1.22 d \\frac{\\lambda}{D} $\n",
        "\n",
        "For a jupiter-like planet, black body wavelength $ \\lambda \\approx 10 \\mu m $\n",
        "\n",
        "For a high-end telescope, $ D \\approx 10 $ m\n",
        "\n",
        "Furthest distance detected by imaging $ d \\approx 200 $ pc"
      ],
      "metadata": {
        "id": "P0LLOolvJxA-"
      }
    },
    {
      "cell_type": "code",
      "source": [
        "a = 1.22 * 200 * u.parsec * 10 * u.micrometer / (10 * u.meter)\n",
        "theta = 1.22 * 10 * u.micrometer / (10 * u.meter)\n",
        "print(a.to(u.AU))\n",
        "print(theta.to(u.dimensionless_unscaled))"
      ],
      "metadata": {
        "id": "XJCvwzW2HyaC"
      },
      "execution_count": null,
      "outputs": []
    },
    {
      "cell_type": "code",
      "source": [
        "axis_array_image = np.arange(10**(-1), 10**(5), 0.01) * u.AU #array of semi-major axes from 0.01 to 100000 AU\n",
        "val = np.linspace(10**(-3), 10**(5), 10000)\n",
        "\n",
        "def imagelimit(x):\n",
        "  return (((x - 10) ** -10) + 1)\n",
        "\n",
        "plt.xscale(\"log\")\n",
        "plt.yscale(\"log\")\n",
        "plt.xlabel(\"SEMI-MAJOR AXIS (AU)\")\n",
        "plt.ylabel(r\"RADIUS (R$_{Jupiter}$)\")\n",
        "plt.title(\"Imaging Sensitivity\")\n",
        "plt.xlim(10**(-2), 10**(6))\n",
        "plt.ylim(10**(-1), 10**(2))\n",
        "#plt.plot(tab[\"pl_orbsmax\"][imaging], tab[\"pl_bmassj\"][imaging], \"r.\", alpha=0.75, label=\"Imaging\")\n",
        "plt.plot(tab[\"pl_orbsmax\"][imaging], tab[\"pl_radj\"][imaging], \"r.\", alpha=0.75, label=\"Imaging\")\n",
        "plt.plot(val, imagelimit(val), label=\"Imaging Sensitivity\")\n",
        "plt.legend(loc='center left', bbox_to_anchor=(1, 0.5))\n",
        "plt.show()"
      ],
      "metadata": {
        "id": "R5dDP6P9J2-R"
      },
      "execution_count": null,
      "outputs": []
    },
    {
      "cell_type": "markdown",
      "source": [
        "# Detection Signal for an Earth-like planet orbiting an M-type star\n",
        "\n",
        "# First, for transit detection:\n",
        "\n",
        "# signal = $ (\\frac{R_p}{R_*})^2 $"
      ],
      "metadata": {
        "id": "rfO_UjW7oLqs"
      }
    },
    {
      "cell_type": "code",
      "source": [
        "mstar_rad = 0.3 * u.solRad\n",
        "\n",
        "transit_signal = (u.earthRad / mstar_rad)**2\n",
        "print(\"For an Earth-like planet orbiting an M-type star, the transit signal would be:\", transit_signal.to_value(u.dimensionless_unscaled))"
      ],
      "metadata": {
        "id": "DMuY0BUUoTPM"
      },
      "execution_count": null,
      "outputs": []
    },
    {
      "cell_type": "markdown",
      "source": [
        "# $ M_p = \\frac{M_* V_*}{V_p} $\n",
        "\n",
        "# where $ V_p = \\sqrt{G M_* / r} $\n",
        "\n",
        "# Assuming $ K = V_* sin(i) = V_* $ due to edge-on view:\n",
        "\n",
        "# $ V_* = \\frac{M_p}{M_*} \\cdot \\sqrt{G M_* / r}$\n",
        "\n",
        "# For an M-type star, the habitable zone is around $r = 0.1$ AU"
      ],
      "metadata": {
        "id": "NYzcGTXNtgsh"
      }
    },
    {
      "cell_type": "code",
      "source": [
        "mstar_mass = 0.3 * u.solMass\n",
        "r_rv = 0.1 * u.AU\n",
        "\n",
        "V = u.earthMass / mstar_mass * np.sqrt(ac.G * mstar_mass / r_rv)\n",
        "print(\"For an Earth-like planet orbiting an M-type star, the radial velocity would be:\", V.to(u.meter / u.second))"
      ],
      "metadata": {
        "id": "C01vuAsQwr8M"
      },
      "execution_count": null,
      "outputs": []
    },
    {
      "cell_type": "markdown",
      "source": [
        "For direct imaging, assuming an edge-on view:\n",
        "\n",
        "$ C = A_g (\\frac{R_p}{a})^2 $\n",
        "\n",
        "Where $A_g$ is the geometric albedo of the planet\n"
      ],
      "metadata": {
        "id": "OZkf0Zvk1yUO"
      }
    },
    {
      "cell_type": "code",
      "source": [
        "A_g = 0.3 #typical albedo for earth\n",
        "\n",
        "a = 0.1 * u.AU\n",
        "\n",
        "C = A_g * (u.earthRad / a)**2\n",
        "\n",
        "print(\"For an Earth-like planet orbiting an M-type star, the constrast signal would be:\", C.to_value(u.dimensionless_unscaled))"
      ],
      "metadata": {
        "id": "jMCd7Ide6s31"
      },
      "execution_count": null,
      "outputs": []
    },
    {
      "cell_type": "code",
      "source": [],
      "metadata": {
        "id": "3fMF2Q1FrsoX"
      },
      "execution_count": null,
      "outputs": []
    }
  ],
  "metadata": {
    "colab": {
      "provenance": [],
      "include_colab_link": true
    },
    "kernelspec": {
      "display_name": "Python 3",
      "name": "python3"
    },
    "language_info": {
      "name": "python"
    }
  },
  "nbformat": 4,
  "nbformat_minor": 0
}